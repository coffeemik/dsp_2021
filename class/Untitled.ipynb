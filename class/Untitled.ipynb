{
 "cells": [
  {
   "cell_type": "code",
   "execution_count": 4,
   "metadata": {},
   "outputs": [
    {
     "name": "stderr",
     "output_type": "stream",
     "text": [
      "Traceback (most recent call last):\n",
      "  File \"C:\\Users\\Alice\\ThinkDSP-master\\class\\rydsp.py\", line 750, in <module>\n",
      "    sr, wav= getWavFromYoutube()\n",
      "  File \"C:\\Users\\Alice\\ThinkDSP-master\\class\\rydsp.py\", line 59, in getWavFromYoutube\n",
      "    print(f'url= {url}, info= {info}')\n",
      "UnicodeEncodeError: 'cp950' codec can't encode character '\\u5d8c' in position 42: illegal multibyte sequence\n"
     ]
    }
   ],
   "source": [
    "!rydsp.py"
   ]
  },
  {
   "cell_type": "code",
   "execution_count": 2,
   "metadata": {},
   "outputs": [
    {
     "name": "stdout",
     "output_type": "stream",
     "text": [
      "Collecting pytube\n",
      "  Downloading https://files.pythonhosted.org/packages/fd/1e/6e7753adddac184ca7e898216c0f6983853d64c763520c39104dc4e47176/pytube-11.0.1-py3-none-any.whl (56kB)\n",
      "Installing collected packages: pytube\n",
      "Successfully installed pytube-11.0.1\n"
     ]
    }
   ],
   "source": [
    "!pip install pytube"
   ]
  }
 ],
 "metadata": {
  "kernelspec": {
   "display_name": "Python 3",
   "language": "python",
   "name": "python3"
  },
  "language_info": {
   "codemirror_mode": {
    "name": "ipython",
    "version": 3
   },
   "file_extension": ".py",
   "mimetype": "text/x-python",
   "name": "python",
   "nbconvert_exporter": "python",
   "pygments_lexer": "ipython3",
   "version": "3.7.4"
  }
 },
 "nbformat": 4,
 "nbformat_minor": 4
}
